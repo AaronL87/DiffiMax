{
 "cells": [
  {
   "cell_type": "markdown",
   "metadata": {},
   "source": [
    "# DiffiMax: The \"Chess Trap Finder\" Prototype\n",
    "## A more human-useful version of Minimax\n",
    "\n",
    "## This algorithm is essentially Minimax, but it chooses the second-best option for your opponent if there is enough of an evaluation difference between your opponent's first and second-best options and there are a substantial number of move choices on your opponent's turn. That is, it prioritizes traps by assuming that your opponent will make a mistake but that, if they get it correct, your evaluation is still in the \"drawish range.\"\n",
    "\n",
    "## There are other conditions that can be added for what constitutes a trap candidate, like weighing the trap evaluation difference based on the number of moves in the position."
   ]
  },
  {
   "cell_type": "code",
   "execution_count": 1,
   "metadata": {},
   "outputs": [],
   "source": [
    "import random\n",
    "\n",
    "class createTree:\n",
    "    def __init__(self,depth,player=1):\n",
    "        self.depth = depth\n",
    "        self.player = player\n",
    "        self.value = None\n",
    "        self.capture = random.randint(1,5) # the value 1 represents a capture\n",
    "        self.check = random.randint(1,5) # the value 1 represents a check\n",
    "        self.children = []\n",
    "        self.childVals()\n",
    "        \n",
    "    def childVals(self):\n",
    "        if self.depth > 0:\n",
    "            self.branchCount = random.randint(1,30) # Range of possible branches\n",
    "            # print(self.depth,self.branchCount) # Prints out number of tree branches\n",
    "            for i in range(0,self.branchCount):\n",
    "                self.children.append(createTree(self.depth-1,player=-self.player))\n",
    "        elif self.depth == 0:\n",
    "            self.value = random.gauss(.1,1.5) # Mean and SD of leaf position evaluations"
   ]
  },
  {
   "cell_type": "code",
   "execution_count": 7,
   "metadata": {},
   "outputs": [],
   "source": [
    "def DiffiMax(node,drawThresh,winThresh,yourNum):\n",
    "    if node.depth != 1: # Cycles through all nodes\n",
    "        for child in node.children:\n",
    "            child.value = DiffiMax(child,drawThresh,winThresh,yourNum)\n",
    "        node.value = DiffiSort(node,drawThresh,winThresh,yourNum)\n",
    "        #print('Depth:',node.depth)\n",
    "        #print('Value:',node.value)\n",
    "        return node.value\n",
    "    else: # Nodes with depth 1 start here and return \n",
    "        depth1Val = DiffiSort(node,drawThresh,winThresh,yourNum)\n",
    "        return depth1Val\n",
    "\n",
    "def DiffiSort(node,drawThresh,winThresh,yourNum):\n",
    "    node.children.sort(reverse=True,key=lambda a:a.value) # Sorts children for future selections\n",
    "    if node.player == -yourNum: # If it is your opponent's choice\n",
    "        if len(node.children) == 1: # If node has one child, as next condition requires two children.\n",
    "            return node.children[0].value\n",
    "        elif node.player == -1: # Opponent has black pieces\n",
    "            if (node.children[-1].value - node.children[-2].value <= -winThresh)\\\n",
    "                                        & (node.children[-2].value >= winThresh)\\\n",
    "                                        & (len(node.children)>=10)\\\n",
    "                                        & (node.children[-1].value >= -drawThresh)\\\n",
    "                                        & (node.check != 1) & (node.capture != 1)\\\n",
    "                                        & (node.children[-1].capture != 1)\\\n",
    "                                        & (node.children[-2].capture != 1):\n",
    "                                        # Conditions in order include the following:\n",
    "                                        # Does the evaluation difference make it a trap?\n",
    "                                        # Are you now winning?\n",
    "                                        # Are there more than 10 moves in the position?\n",
    "                                        # Is opponent's best move still a draw for you?\n",
    "                                        # Are current/previous positions checks/captures?\n",
    "                print('Trap Found!')\n",
    "                print('Depth:',node.children[-2].depth)\n",
    "                print('Evaluation:',node.children[-2].value)\n",
    "                return node.children[-2].value\n",
    "            else:\n",
    "                return node.children[-1].value\n",
    "        elif node.player == 1: # Opponent has white pieces\n",
    "            if (node.children[0].value - node.children[1].value >= winThresh)\\\n",
    "                                        & (node.children[1].value <= -winThresh)\\\n",
    "                                        & (len(node.children)>=10)\\\n",
    "                                        & (node.children[0].value <= drawThresh)\\\n",
    "                                        & (node.check != 1) & (node.capture != 1)\\\n",
    "                                        & (node.children[0].capture != 1)\\\n",
    "                                        & (node.children[1].capture != 1):\n",
    "                print('Trap Found!')\n",
    "                print('Depth:',node.children[1].depth)\n",
    "                print('Evaluation:',node.children[1].value)\n",
    "                return node.children[1].value\n",
    "            else:\n",
    "                return node.children[0].value\n",
    "    elif node.player == yourNum: # If it is your choice\n",
    "        if node.player == 1: # You have the white pieces\n",
    "            return node.children[0].value\n",
    "        \n",
    "        elif node.player == -1: # You have the black pieces\n",
    "            return node.children[-1].value"
   ]
  },
  {
   "cell_type": "code",
   "execution_count": 8,
   "metadata": {
    "scrolled": true
   },
   "outputs": [],
   "source": [
    "tree = createTree(5)\n",
    "# If depth == even, algorithm begins with opponent choice\n",
    "# (because choice starts with depth 1)"
   ]
  },
  {
   "cell_type": "code",
   "execution_count": 9,
   "metadata": {},
   "outputs": [
    {
     "name": "stdout",
     "output_type": "stream",
     "text": [
      "Trap Found!\n",
      "Depth: 1\n",
      "Evaluation: 2.0821885180961703\n",
      "Trap Found!\n",
      "Depth: 1\n",
      "Evaluation: 2.0009887436559817\n"
     ]
    }
   ],
   "source": [
    "# DiffiMax(node,drawThresh,winThresh,yourNum)\n",
    "\n",
    "# drawThresh is the evaluation that is still a draw (always positive)\n",
    "# winThresh is the evaluation that is considered winning (always positive)\n",
    "# yourNum is the color of \"player\": 1 for white, -1 for black\n",
    "\n",
    "Evaluation = DiffiMax(tree,1,2,1)"
   ]
  },
  {
   "cell_type": "code",
   "execution_count": 11,
   "metadata": {},
   "outputs": [
    {
     "name": "stdout",
     "output_type": "stream",
     "text": [
      "Final Evaluation: 1.620861579762952\n"
     ]
    }
   ],
   "source": [
    "print('Final Evaluation:',Evaluation)"
   ]
  }
 ],
 "metadata": {
  "kernelspec": {
   "display_name": "Python 3",
   "language": "python",
   "name": "python3"
  },
  "language_info": {
   "codemirror_mode": {
    "name": "ipython",
    "version": 3
   },
   "file_extension": ".py",
   "mimetype": "text/x-python",
   "name": "python",
   "nbconvert_exporter": "python",
   "pygments_lexer": "ipython3",
   "version": "3.7.3"
  }
 },
 "nbformat": 4,
 "nbformat_minor": 2
}
